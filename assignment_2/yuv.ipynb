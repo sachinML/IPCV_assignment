{
 "cells": [
  {
   "cell_type": "code",
   "execution_count": 8,
   "metadata": {},
   "outputs": [
    {
     "ename": "AttributeError",
     "evalue": "'numpy.ndarray' object has no attribute 'mode'",
     "output_type": "error",
     "traceback": [
      "\u001b[1;31m---------------------------------------------------------------------------\u001b[0m",
      "\u001b[1;31mAttributeError\u001b[0m                            Traceback (most recent call last)",
      "\u001b[1;32m<ipython-input-8-ca6f9c20af76>\u001b[0m in \u001b[0;36m<module>\u001b[1;34m()\u001b[0m\n\u001b[0;32m     47\u001b[0m \u001b[1;31m#yuv[:,:,1] = z\u001b[0m\u001b[1;33m\u001b[0m\u001b[1;33m\u001b[0m\u001b[0m\n\u001b[0;32m     48\u001b[0m \u001b[1;31m#yuv[:,:,2] = x\u001b[0m\u001b[1;33m\u001b[0m\u001b[1;33m\u001b[0m\u001b[0m\n\u001b[1;32m---> 49\u001b[1;33m \u001b[0myuv\u001b[0m \u001b[1;33m=\u001b[0m \u001b[0mImage\u001b[0m\u001b[1;33m.\u001b[0m\u001b[0mmerge\u001b[0m\u001b[1;33m(\u001b[0m\u001b[1;34m'RGB'\u001b[0m\u001b[1;33m,\u001b[0m \u001b[1;33m(\u001b[0m\u001b[0mx\u001b[0m\u001b[1;33m,\u001b[0m \u001b[0mz\u001b[0m\u001b[1;33m,\u001b[0m \u001b[0my\u001b[0m\u001b[1;33m)\u001b[0m\u001b[1;33m)\u001b[0m\u001b[1;33m\u001b[0m\u001b[0m\n\u001b[0m\u001b[0;32m     50\u001b[0m \u001b[0myuv\u001b[0m\u001b[1;33m.\u001b[0m\u001b[0mshow\u001b[0m\u001b[1;33m(\u001b[0m\u001b[1;33m)\u001b[0m\u001b[1;33m\u001b[0m\u001b[0m\n\u001b[0;32m     51\u001b[0m \u001b[1;31m#print(yuv.shape)\u001b[0m\u001b[1;33m\u001b[0m\u001b[1;33m\u001b[0m\u001b[0m\n",
      "\u001b[1;32mC:\\Users\\Sachin Jha\\.conda\\envs\\opencvANDmatplotlib\\lib\\site-packages\\PIL\\Image.py\u001b[0m in \u001b[0;36mmerge\u001b[1;34m(mode, bands)\u001b[0m\n\u001b[0;32m   2712\u001b[0m         \u001b[1;32mraise\u001b[0m \u001b[0mValueError\u001b[0m\u001b[1;33m(\u001b[0m\u001b[1;34m\"wrong number of bands\"\u001b[0m\u001b[1;33m)\u001b[0m\u001b[1;33m\u001b[0m\u001b[0m\n\u001b[0;32m   2713\u001b[0m     \u001b[1;32mfor\u001b[0m \u001b[0mband\u001b[0m \u001b[1;32min\u001b[0m \u001b[0mbands\u001b[0m\u001b[1;33m[\u001b[0m\u001b[1;36m1\u001b[0m\u001b[1;33m:\u001b[0m\u001b[1;33m]\u001b[0m\u001b[1;33m:\u001b[0m\u001b[1;33m\u001b[0m\u001b[0m\n\u001b[1;32m-> 2714\u001b[1;33m         \u001b[1;32mif\u001b[0m \u001b[0mband\u001b[0m\u001b[1;33m.\u001b[0m\u001b[0mmode\u001b[0m \u001b[1;33m!=\u001b[0m \u001b[0mgetmodetype\u001b[0m\u001b[1;33m(\u001b[0m\u001b[0mmode\u001b[0m\u001b[1;33m)\u001b[0m\u001b[1;33m:\u001b[0m\u001b[1;33m\u001b[0m\u001b[0m\n\u001b[0m\u001b[0;32m   2715\u001b[0m             \u001b[1;32mraise\u001b[0m \u001b[0mValueError\u001b[0m\u001b[1;33m(\u001b[0m\u001b[1;34m\"mode mismatch\"\u001b[0m\u001b[1;33m)\u001b[0m\u001b[1;33m\u001b[0m\u001b[0m\n\u001b[0;32m   2716\u001b[0m         \u001b[1;32mif\u001b[0m \u001b[0mband\u001b[0m\u001b[1;33m.\u001b[0m\u001b[0msize\u001b[0m \u001b[1;33m!=\u001b[0m \u001b[0mbands\u001b[0m\u001b[1;33m[\u001b[0m\u001b[1;36m0\u001b[0m\u001b[1;33m]\u001b[0m\u001b[1;33m.\u001b[0m\u001b[0msize\u001b[0m\u001b[1;33m:\u001b[0m\u001b[1;33m\u001b[0m\u001b[0m\n",
      "\u001b[1;31mAttributeError\u001b[0m: 'numpy.ndarray' object has no attribute 'mode'"
     ]
    }
   ],
   "source": [
    "import cv2\n",
    "#import numpy as np\n",
    "import matplotlib.pyplot as plt\n",
    "from PIL import Image\n",
    "\n",
    "img1= cv2.imread('lena.tif')       #by using cv2 image will open in bgr format thats why bgr = 012\n",
    "b1 = img1[:,:,0]\n",
    "g1 = img1[:,:,1]\n",
    "r1 = img1[:,:,2]\n",
    "prop1 = img1.shape\n",
    "for i in range(prop1[0]): \n",
    "    for j in range(prop1[1]): \n",
    "        img1[i][j] = (0.114)*img1[i][j][0] + (0.587)*img1[i][j][1] + (0.299)*img1[i][j][2]\n",
    "        \n",
    "        \n",
    "        \n",
    "        \n",
    "img2= cv2.imread('lena.tif')\n",
    "b2 = img2[:,:,0]\n",
    "g2 = img2[:,:,1]\n",
    "r2 = img2[:,:,2]\n",
    "prop2 = img2.shape\n",
    "for i in range(prop2[0]): \n",
    "    for j in range(prop2[1]): \n",
    "        img2[i][j] = (0.436)*img2[i][j][0] + (-0.289)*img2[i][j][1] + (-0.417)*img2[i][j][2]\n",
    "        \n",
    "      \n",
    "\n",
    "        \n",
    "img3= cv2.imread('lena.tif')\n",
    "b3 = img3[:,:,0]\n",
    "g3 = img3[:,:,1]\n",
    "r3 = img3[:,:,2]\n",
    "prop3 = img3.shape\n",
    "for i in range(prop3[0]): \n",
    "    for j in range(prop3[1]): \n",
    "        img3[i][j] = (-.0100)*img3[i][j][0] + (-0.515)*img3[i][j][1] + (0.615)*img3[i][j][2]        \n",
    "\n",
    "    \n",
    "\n",
    "#yuv = [[[]]]\n",
    "x = r1+r2+r3\n",
    "y= b1+b2+b3\n",
    "z=g1+g2+g3\n",
    "\n",
    "#yuv[:,:,0] = y \n",
    "#yuv[:,:,1] = z\n",
    "#yuv[:,:,2] = x\n",
    "yuv = Image.merge('RGB', (x, z, y))\n",
    "yuv.show()\n",
    "#print(yuv.shape)\n",
    "#yuv = np.vstack([img1, img2, img3]) \n",
    "#cv2.imwrite('x.jpg',yuv)  \n",
    "#plt.imshow(yuv) \n"
   ]
  },
  {
   "cell_type": "code",
   "execution_count": null,
   "metadata": {},
   "outputs": [],
   "source": []
  }
 ],
 "metadata": {
  "kernelspec": {
   "display_name": "Python 3",
   "language": "python",
   "name": "python3"
  },
  "language_info": {
   "codemirror_mode": {
    "name": "ipython",
    "version": 3
   },
   "file_extension": ".py",
   "mimetype": "text/x-python",
   "name": "python",
   "nbconvert_exporter": "python",
   "pygments_lexer": "ipython3",
   "version": "3.5.6"
  }
 },
 "nbformat": 4,
 "nbformat_minor": 4
}
