{
 "cells": [
  {
   "cell_type": "code",
   "execution_count": 60,
   "metadata": {
    "scrolled": true
   },
   "outputs": [
    {
     "name": "stdout",
     "output_type": "stream",
     "text": [
      "[[  1.   4.   8.   8.   3.]\n",
      " [  4.  13.  20.  17.   6.]\n",
      " [  6.  18.  24.  18.   6.]\n",
      " [ -4. -13. -20. -17.  -6.]\n",
      " [ -7. -22. -32. -26.  -9.]]\n"
     ]
    }
   ],
   "source": [
    "import numpy as np\n",
    "from scipy.linalg import toeplitz\n",
    "\n",
    "input = np.array([[1,2,3],[4,5,6],[7,8,9]])\n",
    "filter = np.array([[1,2,1],[0,0,0],[-1,-2,-1]])\n",
    "input_rn, input_cn = input.shape\n",
    "filter_rn, filter_cn = filter.shape\n",
    "out_rn = input_rn + filter_rn - 1\n",
    "out_cn = input_cn + filter_cn - 1\n",
    "filter_zp = np.pad(filter,((out_rn - filter_rn, 0),(0, out_cn - filter_cn)),'constant', constant_values=0)\n",
    "\n",
    "\n",
    "toeplitz_list = []\n",
    "for i in range(filter_zp.shape[0]-1,-1,-1):\n",
    "    a = filter_zp[i, :]\n",
    "    b = np.r_[a[0],np.zeros(input_cn-1)]\n",
    "    \n",
    "    toeplitz_matrix = toeplitz(a,b)\n",
    "    toeplitz_list.append(toeplitz_matrix)\n",
    "    \n",
    "a = range(1, filter_zp.shape[0]+1)    \n",
    "b = np.r_[a[0],np.zeros(input_rn-1, dtype=int)]\n",
    "doubly_indices = toeplitz(a,b)\n",
    "\n",
    "toeplitz_shape = toeplitz_list[0].shape\n",
    "h = toeplitz_shape[0]*doubly_indices.shape[0]\n",
    "w = toeplitz_shape[1]*doubly_indices.shape[1]\n",
    "doubly_blocked_shape = [h,w]\n",
    "doubly_blocked = np.zeros(doubly_blocked_shape)\n",
    "\n",
    "x, y = toeplitz_shape\n",
    "for i in range(doubly_indices.shape[0]):\n",
    "    for j in range(doubly_indices.shape[1]):\n",
    "        doubly_blocked[i*x : (i*x) + x , j*y : (j*y) + y] = toeplitz_list[doubly_indices[i,j]-1]\n",
    "\n",
    "        \n",
    "def vector(input):\n",
    "    input_h, input_w = input.shape\n",
    "    out = np.zeros(input_h*input_w, dtype=input.dtype)\n",
    "    input = np.flipud(input)\n",
    "    for i,k in enumerate(input):\n",
    "        g = i*input_w\n",
    "        l = i*input_w + input_w\n",
    "        out[g:l] = k\n",
    "    return out\n",
    "\n",
    "net_vector = np.matmul(doubly_blocked, vector(input))\n",
    "\n",
    "def matrix(input, out_shape):\n",
    "    out_h, out_w = out_shape\n",
    "    out = np.zeros(out_shape, dtype=input.dtype)\n",
    "    for i in range(out_h):\n",
    "        g = i*out_w\n",
    "        l = i*out_w + out_w\n",
    "        out[i, :] = input[g:l]\n",
    "    out = np.flipud(out)\n",
    "    return out\n",
    "\n",
    "out_shape = [out_rn, out_cn]\n",
    "net_out = matrix(net_vector, out_shape)\n",
    "\n",
    "print(net_out)\n",
    "        \n",
    "    "
   ]
  },
  {
   "cell_type": "code",
   "execution_count": null,
   "metadata": {},
   "outputs": [],
   "source": []
  }
 ],
 "metadata": {
  "kernelspec": {
   "display_name": "Python 3",
   "language": "python",
   "name": "python3"
  },
  "language_info": {
   "codemirror_mode": {
    "name": "ipython",
    "version": 3
   },
   "file_extension": ".py",
   "mimetype": "text/x-python",
   "name": "python",
   "nbconvert_exporter": "python",
   "pygments_lexer": "ipython3",
   "version": "3.5.6"
  }
 },
 "nbformat": 4,
 "nbformat_minor": 4
}
