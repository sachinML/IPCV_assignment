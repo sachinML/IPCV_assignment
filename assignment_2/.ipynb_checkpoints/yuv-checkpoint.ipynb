{
 "cells": [
  {
   "cell_type": "code",
   "execution_count": 1,
   "metadata": {},
   "outputs": [
    {
     "data": {
      "text/plain": [
       "<matplotlib.image.AxesImage at 0x17f2ebebc50>"
      ]
     },
     "execution_count": 1,
     "metadata": {},
     "output_type": "execute_result"
    }
   ],
   "source": [
    "import cv2\n",
    "import numpy as np\n",
    "import matplotlib.pyplot as plt\n",
    "from PIL import Image\n",
    "\n",
    "img1= cv2.imread('lena.tif')       #by using cv2 image will open in bgr format thats why bgr = 012\n",
    "b1 = img1[:,:,0]\n",
    "g1 = img1[:,:,1]\n",
    "r1 = img1[:,:,2]\n",
    "prop1 = img1.shape\n",
    "for i in range(prop1[0]): \n",
    "    for j in range(prop1[1]): \n",
    "        img1[i][j] = (0.114)*img1[i][j][0] + (0.587)*img1[i][j][1] + (0.299)*img1[i][j][2]\n",
    "        \n",
    "        \n",
    "        \n",
    "        \n",
    "img2= cv2.imread('lena.tif')\n",
    "b2 = img2[:,:,0]\n",
    "g2 = img2[:,:,1]\n",
    "r2 = img2[:,:,2]\n",
    "prop2 = img2.shape\n",
    "for i in range(prop2[0]): \n",
    "    for j in range(prop2[1]): \n",
    "        img2[i][j] = (0.436)*img2[i][j][0] + (-0.289)*img2[i][j][1] + (-0.417)*img2[i][j][2]\n",
    "        \n",
    "      \n",
    "\n",
    "        \n",
    "img3= cv2.imread('lena.tif')\n",
    "b3 = img3[:,:,0]\n",
    "g3 = img3[:,:,1]\n",
    "r3 = img3[:,:,2]\n",
    "prop3 = img3.shape\n",
    "for i in range(prop3[0]): \n",
    "    for j in range(prop3[1]): \n",
    "        img3[i][j] = (-.0100)*img3[i][j][0] + (-0.515)*img3[i][j][1] + (0.615)*img3[i][j][2]        \n",
    "\n",
    "    \n",
    "\n",
    "\n",
    "        \n",
    "yuv = np.vstack([img1, img2, img3]) \n",
    "cv2.imwrite('x.jpg',yuv)  \n",
    "plt.imshow(yuv) \n"
   ]
  },
  {
   "cell_type": "code",
   "execution_count": null,
   "metadata": {},
   "outputs": [],
   "source": []
  }
 ],
 "metadata": {
  "kernelspec": {
   "display_name": "Python 3",
   "language": "python",
   "name": "python3"
  },
  "language_info": {
   "codemirror_mode": {
    "name": "ipython",
    "version": 3
   },
   "file_extension": ".py",
   "mimetype": "text/x-python",
   "name": "python",
   "nbconvert_exporter": "python",
   "pygments_lexer": "ipython3",
   "version": "3.5.6"
  }
 },
 "nbformat": 4,
 "nbformat_minor": 4
}
