{
 "cells": [
  {
   "cell_type": "code",
   "execution_count": 10,
   "metadata": {},
   "outputs": [
    {
     "name": "stdout",
     "output_type": "stream",
     "text": [
      "[[-1. -1. -2.  1.  1.  2.  0.  0.  0.]\n",
      " [-2. -1. -1.  2.  1.  1.  0.  0.  0.]\n",
      " [-1. -2. -1.  1.  2.  1.  0.  0.  0.]\n",
      " [ 0.  0.  0. -1. -1. -2.  1.  1.  2.]\n",
      " [ 0.  0.  0. -2. -1. -1.  2.  1.  1.]\n",
      " [ 0.  0.  0. -1. -2. -1.  1.  2.  1.]\n",
      " [ 1.  1.  2.  0.  0.  0. -1. -1. -2.]\n",
      " [ 2.  1.  1.  0.  0.  0. -2. -1. -1.]\n",
      " [ 1.  2.  1.  0.  0.  0. -1. -2. -1.]]\n",
      "[[ 12.  12.  12.]\n",
      " [ 12.  12.  12.]\n",
      " [-24. -24. -24.]]\n"
     ]
    }
   ],
   "source": [
    "import numpy as np\n",
    "\n",
    "input = np.array([[1,2,3],[4,5,6],[7,8,9]])\n",
    "filter = np.array([[1,2,1],[0,0,0],[-1,-2,-1]])\n",
    "\n",
    "input1 = input.reshape(-1,1)\n",
    "\n",
    "x = np.zeros((filter.shape[0],filter.shape[1],3))\n",
    "\n",
    "\n",
    "for i in range(x.shape[0]):\n",
    "  for j in range(x.shape[2]):\n",
    "    filter1 = filter[filter.shape[0]-i-1]\n",
    "    x[i,:,j] = np.roll(filter1,j).transpose()\n",
    "   \n",
    "\n",
    "result = np.zeros((filter.shape[0]*filter.shape[1],input1.shape[0]))\n",
    "for i in range(result.shape[1]//x.shape[2]):\n",
    "  result[:,x.shape[2]*i:x.shape[2]*(i+1)] = np.reshape(np.roll(x,i,axis=0),(-1,x.shape[2]))\n",
    "print(result)\n",
    "\n",
    "print((np.dot(result,input1)).reshape(filter.shape[0],filter.shape[1]))"
   ]
  },
  {
   "cell_type": "code",
   "execution_count": null,
   "metadata": {},
   "outputs": [],
   "source": []
  }
 ],
 "metadata": {
  "kernelspec": {
   "display_name": "Python 3",
   "language": "python",
   "name": "python3"
  },
  "language_info": {
   "codemirror_mode": {
    "name": "ipython",
    "version": 3
   },
   "file_extension": ".py",
   "mimetype": "text/x-python",
   "name": "python",
   "nbconvert_exporter": "python",
   "pygments_lexer": "ipython3",
   "version": "3.8.3"
  }
 },
 "nbformat": 4,
 "nbformat_minor": 4
}
