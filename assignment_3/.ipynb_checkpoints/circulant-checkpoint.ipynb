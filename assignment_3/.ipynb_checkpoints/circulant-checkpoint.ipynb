{
 "cells": [
  {
   "cell_type": "code",
   "execution_count": 60,
   "metadata": {},
   "outputs": [
    {
     "name": "stdout",
     "output_type": "stream",
     "text": [
      "[[ -1.  -4.  -8.  -8.  -3.]\n",
      " [ -4. -13. -20. -17.  -6.]\n",
      " [ -6. -18. -24. -18.  -6.]\n",
      " [  4.  13.  20.  17.   6.]\n",
      " [  7.  22.  32.  26.   9.]]\n"
     ]
    }
   ],
   "source": [
    "import numpy as np\n",
    "\n",
    "input = np.array([[1,2,3],[4,5,6],[7,8,9]])\n",
    "filter = np.array([[1,2,1],[0,0,0],[-1,-2,-1]])\n",
    "m = input.shape[0]+filter.shape[0]-1\n",
    "n = input.shape[1]+filter.shape[1]-1\n",
    "\n",
    "filter = np.pad(filter,((m-filter.shape[0],0),(0,n-filter.shape[1])),'constant',constant_values = (0,0))\n",
    "\n",
    "input1 = input.reshape(-1,1)\n",
    "\n",
    "x = np.zeros((filter.shape[0],filter.shape[1],3))\n",
    "\n",
    "\n",
    "for i in range(x.shape[0]):\n",
    "  for j in range(x.shape[2]):\n",
    "    filter1 = filter[filter.shape[0]-i-1]\n",
    "    x[i,:,j] = np.roll(filter1,j).T \n",
    "   \n",
    "\n",
    "result = np.zeros((m*n,input1.shape[0]))\n",
    "for i in range(result.shape[1]//x.shape[2]):\n",
    "  result[:,x.shape[2]*i:x.shape[2]*(i+1)] = np.reshape(np.roll(x,i,axis=0),(-1,x.shape[2]))\n",
    "\n",
    "\n",
    "print((np.dot(result,input1)).reshape(m,n))"
   ]
  },
  {
   "cell_type": "code",
   "execution_count": null,
   "metadata": {},
   "outputs": [],
   "source": []
  }
 ],
 "metadata": {
  "kernelspec": {
   "display_name": "Python 3",
   "language": "python",
   "name": "python3"
  },
  "language_info": {
   "codemirror_mode": {
    "name": "ipython",
    "version": 3
   },
   "file_extension": ".py",
   "mimetype": "text/x-python",
   "name": "python",
   "nbconvert_exporter": "python",
   "pygments_lexer": "ipython3",
   "version": "3.8.3"
  }
 },
 "nbformat": 4,
 "nbformat_minor": 4
}
