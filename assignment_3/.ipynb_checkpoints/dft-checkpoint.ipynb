{
 "cells": [
  {
   "cell_type": "code",
   "execution_count": 4,
   "metadata": {},
   "outputs": [
    {
     "name": "stdout",
     "output_type": "stream",
     "text": [
      "[[ 4.+0.0000000e+00j  2.-1.2246468e-16j]\n",
      " [-2.-3.6739404e-16j  0.+0.0000000e+00j]]\n",
      "    \n",
      "    \n",
      "[[ 1.36000000e+02+0.00000000e+00j -8.00000000e+00+8.00000000e+00j\n",
      "  -8.00000000e+00-9.79717439e-15j -8.00000000e+00-8.00000000e+00j]\n",
      " [-3.20000000e+01+3.20000000e+01j  3.55271368e-15+0.00000000e+00j\n",
      "   1.77635684e-15+1.77635684e-15j -2.30926389e-14+7.10542736e-15j]\n",
      " [-3.20000000e+01-1.42059029e-14j  1.83573224e-15+1.77635684e-15j\n",
      "   0.00000000e+00+2.44929360e-15j -6.69473739e-14+2.66453526e-15j]\n",
      " [-3.20000000e+01-3.20000000e+01j -2.48689958e-14+2.66453526e-15j\n",
      "  -8.26005930e-14+1.77635684e-15j -5.50670620e-14+0.00000000e+00j]]\n"
     ]
    }
   ],
   "source": [
    "import numpy as np\n",
    "\n",
    "def DFT_2D(z):\n",
    "  m, n = z.shape\n",
    "  return np.array([ [ sum([ sum([ z[i,j]*np.exp(-1j*2*np.pi*(k_m*i/m + k_n*j/n)) for i in range(m) ]) for j in range(n) ]) for k_n in range(n) ] for k_m in range(m) ])\n",
    "\n",
    "a= np.array([[1,0],[2,1]])\n",
    "b = np.array([[1,2,3,4],[5,6,7,8],[9,10,11,12],[13,14,15,16]])\n",
    "\n",
    "print(DFT_2D(a))\n",
    "print('    ')\n",
    "print('    ')\n",
    "print(DFT_2D(b))"
   ]
  },
  {
   "cell_type": "code",
   "execution_count": null,
   "metadata": {},
   "outputs": [],
   "source": []
  }
 ],
 "metadata": {
  "kernelspec": {
   "display_name": "Python 3",
   "language": "python",
   "name": "python3"
  },
  "language_info": {
   "codemirror_mode": {
    "name": "ipython",
    "version": 3
   },
   "file_extension": ".py",
   "mimetype": "text/x-python",
   "name": "python",
   "nbconvert_exporter": "python",
   "pygments_lexer": "ipython3",
   "version": "3.8.3"
  }
 },
 "nbformat": 4,
 "nbformat_minor": 4
}
